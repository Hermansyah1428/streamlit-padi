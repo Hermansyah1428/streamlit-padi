{
 "cells": [
  {
   "cell_type": "markdown",
   "id": "843a66a6",
   "metadata": {},
   "source": [
    "#memanggil library yang digunakan"
   ]
  },
  {
   "cell_type": "code",
   "execution_count": 86,
   "id": "b1ca386c",
   "metadata": {},
   "outputs": [],
   "source": [
    "import pandas as pd\n",
    "import numpy as np\n",
    "from sklearn.model_selection import train_test_split\n",
    "from sklearn.linear_model import LinearRegression"
   ]
  },
  {
   "cell_type": "markdown",
   "id": "ef8512f7",
   "metadata": {},
   "source": [
    "#load dataset"
   ]
  },
  {
   "cell_type": "code",
   "execution_count": 87,
   "id": "7f3e6760",
   "metadata": {},
   "outputs": [
    {
     "name": "stdout",
     "output_type": "stream",
     "text": [
      "       Produksi  Luas Panen          Curah hujan           Kelembapan  \\\n",
      "0    1329536.00   323589.00  1900-03-07 19:00:00  1900-01-03 10:00:00   \n",
      "1    1299699.00   329041.00  1900-03-03 09:00:00  1900-01-03 10:12:00   \n",
      "2    1382905.00   339253.00  1900-03-01 12:00:00                82.72   \n",
      "3    1419128.00   348223.00  1900-03-04 21:00:00  1900-01-03 11:00:00   \n",
      "4    1368074.00   337561.00  1900-02-24 19:00:00  1900-01-03 10:46:00   \n",
      "..          ...         ...                  ...                  ...   \n",
      "219  3831923.00   390799.00              2317.60  1900-01-03 07:40:00   \n",
      "220  4090654.00   396559.00  1900-03-16 01:10:00  1900-01-03 05:04:00   \n",
      "221  2488641.91   511940.93              1385.80  1900-01-03 04:05:00   \n",
      "222  2164089.33   464103.42  1900-03-11 02:40:00  1900-01-03 06:03:00   \n",
      "223  2604913.29   545149.05  1900-04-01 03:30:00                75.80   \n",
      "\n",
      "          Suhu rata-rata  \n",
      "0    1900-01-01 02:06:00  \n",
      "1                  26.92  \n",
      "2    1900-01-01 02:27:00  \n",
      "3    1900-01-01 02:08:00  \n",
      "4    1900-01-01 02:31:00  \n",
      "..                   ...  \n",
      "219  1900-01-01 02:45:00  \n",
      "220  1900-01-01 02:36:00  \n",
      "221  1900-01-01 01:50:00  \n",
      "222  1900-01-01 03:23:00  \n",
      "223  1900-01-01 00:58:00  \n",
      "\n",
      "[224 rows x 5 columns]\n"
     ]
    }
   ],
   "source": [
    "x = []\n",
    "y = []\n",
    "# membaca file csv\n",
    "df = pd.read_excel('padi1.xlsx')\n",
    "\n",
    "# menghapus kolom \"daerah\" dan \"tahun\"\n",
    "df = df.drop(['Daerah','Tahun'], axis=1)\n",
    "\n",
    "# menampilkan data\n",
    "print(df)\n"
   ]
  },
  {
   "cell_type": "code",
   "execution_count": 88,
   "id": "4cb659ca",
   "metadata": {},
   "outputs": [],
   "source": [
    "# membaca file excel\n",
    "df = pd.read_excel('padi1.xlsx')\n",
    "\n",
    "# mengambil kolom \"target\" sebagai variabel y\n",
    "y = df['Produksi'].values\n",
    "\n",
    "# mengambil kolom lainnya sebagai variabel x\n",
    "x = df.drop(['Luas Panen'], axis=1).values\n",
    "x = df.drop(['Curah hujan'], axis=1).values\n",
    "x = df.drop(['Kelembapan'], axis=1).values\n",
    "x = df.drop(['Suhu rata-rata'], axis=1).values"
   ]
  },
  {
   "cell_type": "code",
   "execution_count": 89,
   "id": "f74672d5",
   "metadata": {},
   "outputs": [],
   "source": [
    "x = np.array(x)\n",
    "y = np.array(y)"
   ]
  },
  {
   "cell_type": "markdown",
   "id": "b52dee08",
   "metadata": {},
   "source": [
    "#standarisasi data"
   ]
  },
  {
   "cell_type": "markdown",
   "id": "7cef9179",
   "metadata": {},
   "source": [
    "#memisahkan data training dan data testing"
   ]
  },
  {
   "cell_type": "code",
   "execution_count": 90,
   "id": "b584d5ac",
   "metadata": {},
   "outputs": [],
   "source": [
    "# Memisahkan data menjadi data training dan data testing dengan rasio 80:20\n",
    "x_train, x_test, y_train, y_test = train_test_split(x, y, test_size=0.2, random_state=42)\n",
    "\n",
    "# x_train: data training fitur\n",
    "# x_test: data testing fitur\n",
    "# y_train: data training target\n",
    "# y_test: data testing target\n",
    "# test_size: rasio data testing\n",
    "# random_state: seed untuk pengacakan data, digunakan untuk mereproduksi hasil yang sama setiap kali dijalankan\n"
   ]
  },
  {
   "cell_type": "code",
   "execution_count": 92,
   "id": "b9406940",
   "metadata": {},
   "outputs": [
    {
     "name": "stdout",
     "output_type": "stream",
     "text": [
      "Jumlah data pada x_train:  179\n",
      "Jumlah data pada y_test:  45\n"
     ]
    }
   ],
   "source": [
    "# Menampilkan jumlah data pada masing-masing set (training dan testing)\n",
    "print(\"Jumlah data pada x_train: \", len(x_train))\n",
    "print(\"Jumlah data pada y_test: \", len(y_test))"
   ]
  },
  {
   "cell_type": "markdown",
   "id": "1bcff2bb",
   "metadata": {},
   "source": [
    "#membuat data latih menggunakan algoritma regresi linier berganda"
   ]
  },
  {
   "cell_type": "markdown",
   "id": "ed39649e",
   "metadata": {},
   "source": [
    "#Model evaluasi untuk mengukur akurasi"
   ]
  },
  {
   "cell_type": "markdown",
   "id": "d31103e2",
   "metadata": {},
   "source": [
    "#membuat model prediksi"
   ]
  },
  {
   "cell_type": "markdown",
   "id": "cc349bb4",
   "metadata": {},
   "source": [
    "#simpan model"
   ]
  },
  {
   "cell_type": "markdown",
   "id": "d528a860",
   "metadata": {},
   "source": [
    "latihan"
   ]
  },
  {
   "cell_type": "code",
   "execution_count": 1,
   "id": "880fa8f4",
   "metadata": {},
   "outputs": [
    {
     "name": "stdout",
     "output_type": "stream",
     "text": [
      "Prediksi hasil panen padi: [1040.68541301]\n"
     ]
    }
   ],
   "source": [
    "import numpy as np\n",
    "from sklearn.linear_model import LinearRegression\n",
    "\n",
    "# buat dataset untuk latihan\n",
    "luas_panen = np.array([10, 20, 30, 40, 50, 60, 70, 80, 90, 100])\n",
    "curah_hujan = np.array([200, 150, 300, 250, 350, 400, 450, 500, 550, 600])\n",
    "kelembapan = np.array([70, 75, 80, 85, 90, 85, 80, 75, 70, 65])\n",
    "suhu = np.array([25, 27, 28, 30, 32, 31, 29, 28, 27, 25])\n",
    "produksi = np.array([200, 400, 500, 600, 700, 800, 900, 1000, 1100, 1200])\n",
    "\n",
    "# gabungkan semua fitur menjadi sebuah matriks\n",
    "X = np.column_stack((luas_panen, curah_hujan, kelembapan, suhu))\n",
    "\n",
    "# buat model regresi linier\n",
    "model = LinearRegression()\n",
    "\n",
    "# latih model menggunakan data latihan\n",
    "model.fit(X, produksi)\n",
    "\n",
    "# buat prediksi untuk luas_panen = 80, curah_hujan = 400, kelembapan = 75, dan suhu = 28\n",
    "x_prediksi = np.array([80, 400, 75, 28]).reshape(1, -1)\n",
    "y_prediksi = model.predict(x_prediksi)\n",
    "\n",
    "# tampilkan hasil prediksi\n",
    "print(\"Prediksi hasil panen padi:\", y_prediksi)\n"
   ]
  },
  {
   "cell_type": "code",
   "execution_count": null,
   "id": "0934c53c",
   "metadata": {},
   "outputs": [],
   "source": [
    "import joblib\n",
    "\n",
    "# menyimpan model ke dalam file\n",
    "joblib.dump(model, 'model_padi.joblib')\n"
   ]
  }
 ],
 "metadata": {
  "kernelspec": {
   "display_name": "Python 3.9.13 ('base')",
   "language": "python",
   "name": "python3"
  },
  "language_info": {
   "codemirror_mode": {
    "name": "ipython",
    "version": 3
   },
   "file_extension": ".py",
   "mimetype": "text/x-python",
   "name": "python",
   "nbconvert_exporter": "python",
   "pygments_lexer": "ipython3",
   "version": "3.9.13"
  },
  "vscode": {
   "interpreter": {
    "hash": "cd78fef2128015050713e82ca51c6520b11aee7c9ee8df750520bbbc7384cbaa"
   }
  }
 },
 "nbformat": 4,
 "nbformat_minor": 5
}
